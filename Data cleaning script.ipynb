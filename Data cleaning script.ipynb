{
 "cells": [
  {
   "cell_type": "markdown",
   "metadata": {},
   "source": [
    "# Data cleaning: All methods"
   ]
  },
  {
   "cell_type": "code",
   "execution_count": 114,
   "metadata": {},
   "outputs": [],
   "source": [
    "#imports\n",
    "import pandas as pd\n",
    "import numpy as np\n",
    "import seaborn as sns\n",
    "import matplotlib.pyplot as plt\n",
    "import matplotlib.mlab as mlab\n",
    "import matplotlib\n",
    "plt.style.use('ggplot')\n",
    "from matplotlib.pyplot import figure"
   ]
  },
  {
   "cell_type": "markdown",
   "metadata": {},
   "source": [
    "### (Not so) Brief look at the data.\n",
    "\n"
   ]
  },
  {
   "cell_type": "code",
   "execution_count": 115,
   "metadata": {},
   "outputs": [
    {
     "data": {
      "text/html": [
       "<div>\n",
       "<style scoped>\n",
       "    .dataframe tbody tr th:only-of-type {\n",
       "        vertical-align: middle;\n",
       "    }\n",
       "\n",
       "    .dataframe tbody tr th {\n",
       "        vertical-align: top;\n",
       "    }\n",
       "\n",
       "    .dataframe thead th {\n",
       "        text-align: right;\n",
       "    }\n",
       "</style>\n",
       "<table border=\"1\" class=\"dataframe\">\n",
       "  <thead>\n",
       "    <tr style=\"text-align: right;\">\n",
       "      <th></th>\n",
       "      <th>Identifier</th>\n",
       "      <th>Edition Statement</th>\n",
       "      <th>Place of Publication</th>\n",
       "      <th>Date of Publication</th>\n",
       "      <th>Publisher</th>\n",
       "      <th>Title</th>\n",
       "      <th>Author</th>\n",
       "      <th>Contributors</th>\n",
       "      <th>Corporate Author</th>\n",
       "      <th>Corporate Contributors</th>\n",
       "      <th>Former owner</th>\n",
       "      <th>Engraver</th>\n",
       "      <th>Issuance type</th>\n",
       "      <th>Flickr URL</th>\n",
       "      <th>Shelfmarks</th>\n",
       "    </tr>\n",
       "  </thead>\n",
       "  <tbody>\n",
       "    <tr>\n",
       "      <th>0</th>\n",
       "      <td>206</td>\n",
       "      <td>NaN</td>\n",
       "      <td>London</td>\n",
       "      <td>1879 [1878]</td>\n",
       "      <td>S. Tinsley &amp; Co.</td>\n",
       "      <td>Walter Forbes. [A novel.] By A. A</td>\n",
       "      <td>A. A.</td>\n",
       "      <td>FORBES, Walter.</td>\n",
       "      <td>NaN</td>\n",
       "      <td>NaN</td>\n",
       "      <td>NaN</td>\n",
       "      <td>NaN</td>\n",
       "      <td>monographic</td>\n",
       "      <td>http://www.flickr.com/photos/britishlibrary/ta...</td>\n",
       "      <td>British Library HMNTS 12641.b.30.</td>\n",
       "    </tr>\n",
       "    <tr>\n",
       "      <th>1</th>\n",
       "      <td>216</td>\n",
       "      <td>NaN</td>\n",
       "      <td>London; Virtue &amp; Yorston</td>\n",
       "      <td>1868</td>\n",
       "      <td>Virtue &amp; Co.</td>\n",
       "      <td>All for Greed. [A novel. The dedication signed...</td>\n",
       "      <td>A., A. A.</td>\n",
       "      <td>BLAZE DE BURY, Marie Pauline Rose - Baroness</td>\n",
       "      <td>NaN</td>\n",
       "      <td>NaN</td>\n",
       "      <td>NaN</td>\n",
       "      <td>NaN</td>\n",
       "      <td>monographic</td>\n",
       "      <td>http://www.flickr.com/photos/britishlibrary/ta...</td>\n",
       "      <td>British Library HMNTS 12626.cc.2.</td>\n",
       "    </tr>\n",
       "    <tr>\n",
       "      <th>2</th>\n",
       "      <td>218</td>\n",
       "      <td>NaN</td>\n",
       "      <td>London</td>\n",
       "      <td>1869</td>\n",
       "      <td>Bradbury, Evans &amp; Co.</td>\n",
       "      <td>Love the Avenger. By the author of “All for Gr...</td>\n",
       "      <td>A., A. A.</td>\n",
       "      <td>BLAZE DE BURY, Marie Pauline Rose - Baroness</td>\n",
       "      <td>NaN</td>\n",
       "      <td>NaN</td>\n",
       "      <td>NaN</td>\n",
       "      <td>NaN</td>\n",
       "      <td>monographic</td>\n",
       "      <td>http://www.flickr.com/photos/britishlibrary/ta...</td>\n",
       "      <td>British Library HMNTS 12625.dd.1.</td>\n",
       "    </tr>\n",
       "    <tr>\n",
       "      <th>3</th>\n",
       "      <td>472</td>\n",
       "      <td>NaN</td>\n",
       "      <td>London</td>\n",
       "      <td>1851</td>\n",
       "      <td>James Darling</td>\n",
       "      <td>Welsh Sketches, chiefly ecclesiastical, to the...</td>\n",
       "      <td>A., E. S.</td>\n",
       "      <td>Appleyard, Ernest Silvanus.</td>\n",
       "      <td>NaN</td>\n",
       "      <td>NaN</td>\n",
       "      <td>NaN</td>\n",
       "      <td>NaN</td>\n",
       "      <td>monographic</td>\n",
       "      <td>http://www.flickr.com/photos/britishlibrary/ta...</td>\n",
       "      <td>British Library HMNTS 10369.bbb.15.</td>\n",
       "    </tr>\n",
       "    <tr>\n",
       "      <th>4</th>\n",
       "      <td>480</td>\n",
       "      <td>A new edition, revised, etc.</td>\n",
       "      <td>London</td>\n",
       "      <td>1857</td>\n",
       "      <td>Wertheim &amp; Macintosh</td>\n",
       "      <td>[The World in which I live, and my place in it...</td>\n",
       "      <td>A., E. S.</td>\n",
       "      <td>BROOME, John Henry.</td>\n",
       "      <td>NaN</td>\n",
       "      <td>NaN</td>\n",
       "      <td>NaN</td>\n",
       "      <td>NaN</td>\n",
       "      <td>monographic</td>\n",
       "      <td>http://www.flickr.com/photos/britishlibrary/ta...</td>\n",
       "      <td>British Library HMNTS 9007.d.28.</td>\n",
       "    </tr>\n",
       "  </tbody>\n",
       "</table>\n",
       "</div>"
      ],
      "text/plain": [
       "   Identifier             Edition Statement      Place of Publication  \\\n",
       "0         206                           NaN                    London   \n",
       "1         216                           NaN  London; Virtue & Yorston   \n",
       "2         218                           NaN                    London   \n",
       "3         472                           NaN                    London   \n",
       "4         480  A new edition, revised, etc.                    London   \n",
       "\n",
       "  Date of Publication              Publisher  \\\n",
       "0         1879 [1878]       S. Tinsley & Co.   \n",
       "1                1868           Virtue & Co.   \n",
       "2                1869  Bradbury, Evans & Co.   \n",
       "3                1851          James Darling   \n",
       "4                1857   Wertheim & Macintosh   \n",
       "\n",
       "                                               Title     Author  \\\n",
       "0                  Walter Forbes. [A novel.] By A. A      A. A.   \n",
       "1  All for Greed. [A novel. The dedication signed...  A., A. A.   \n",
       "2  Love the Avenger. By the author of “All for Gr...  A., A. A.   \n",
       "3  Welsh Sketches, chiefly ecclesiastical, to the...  A., E. S.   \n",
       "4  [The World in which I live, and my place in it...  A., E. S.   \n",
       "\n",
       "                                   Contributors  Corporate Author  \\\n",
       "0                               FORBES, Walter.               NaN   \n",
       "1  BLAZE DE BURY, Marie Pauline Rose - Baroness               NaN   \n",
       "2  BLAZE DE BURY, Marie Pauline Rose - Baroness               NaN   \n",
       "3                   Appleyard, Ernest Silvanus.               NaN   \n",
       "4                           BROOME, John Henry.               NaN   \n",
       "\n",
       "   Corporate Contributors Former owner  Engraver Issuance type  \\\n",
       "0                     NaN          NaN       NaN   monographic   \n",
       "1                     NaN          NaN       NaN   monographic   \n",
       "2                     NaN          NaN       NaN   monographic   \n",
       "3                     NaN          NaN       NaN   monographic   \n",
       "4                     NaN          NaN       NaN   monographic   \n",
       "\n",
       "                                          Flickr URL  \\\n",
       "0  http://www.flickr.com/photos/britishlibrary/ta...   \n",
       "1  http://www.flickr.com/photos/britishlibrary/ta...   \n",
       "2  http://www.flickr.com/photos/britishlibrary/ta...   \n",
       "3  http://www.flickr.com/photos/britishlibrary/ta...   \n",
       "4  http://www.flickr.com/photos/britishlibrary/ta...   \n",
       "\n",
       "                            Shelfmarks  \n",
       "0    British Library HMNTS 12641.b.30.  \n",
       "1    British Library HMNTS 12626.cc.2.  \n",
       "2    British Library HMNTS 12625.dd.1.  \n",
       "3  British Library HMNTS 10369.bbb.15.  \n",
       "4     British Library HMNTS 9007.d.28.  "
      ]
     },
     "execution_count": 115,
     "metadata": {},
     "output_type": "execute_result"
    }
   ],
   "source": [
    "book_bl = pd.read_csv(\"C:/Users/cirob/Desktop/UNI MASTER/Data Cleaning/BL-Flickr-Images-Book.csv\")\n",
    "\n",
    "book_bl.head(5) "
   ]
  },
  {
   "cell_type": "code",
   "execution_count": 116,
   "metadata": {},
   "outputs": [
    {
     "name": "stdout",
     "output_type": "stream",
     "text": [
      "(8287, 15)\n"
     ]
    }
   ],
   "source": [
    "# shape of the data\n",
    "print(book_bl.shape)"
   ]
  },
  {
   "cell_type": "code",
   "execution_count": 117,
   "metadata": {},
   "outputs": [
    {
     "name": "stdout",
     "output_type": "stream",
     "text": [
      "Identifier                  int64\n",
      "Edition Statement          object\n",
      "Place of Publication       object\n",
      "Date of Publication        object\n",
      "Publisher                  object\n",
      "Title                      object\n",
      "Author                     object\n",
      "Contributors               object\n",
      "Corporate Author          float64\n",
      "Corporate Contributors    float64\n",
      "Former owner               object\n",
      "Engraver                  float64\n",
      "Issuance type              object\n",
      "Flickr URL                 object\n",
      "Shelfmarks                 object\n",
      "dtype: object\n"
     ]
    }
   ],
   "source": [
    "#data types of the data\n",
    "print(book_bl.dtypes)"
   ]
  },
  {
   "cell_type": "code",
   "execution_count": 118,
   "metadata": {},
   "outputs": [
    {
     "name": "stdout",
     "output_type": "stream",
     "text": [
      "['Identifier' 'Corporate Author' 'Corporate Contributors' 'Engraver']\n"
     ]
    }
   ],
   "source": [
    "# select numeric columns\n",
    "book_bl_numeric = book_bl.select_dtypes(include=[np.number])\n",
    "numeric_cols = book_bl_numeric.columns.values\n",
    "print(numeric_cols)"
   ]
  },
  {
   "cell_type": "code",
   "execution_count": 119,
   "metadata": {},
   "outputs": [
    {
     "name": "stdout",
     "output_type": "stream",
     "text": [
      "['Edition Statement' 'Place of Publication' 'Date of Publication'\n",
      " 'Publisher' 'Title' 'Author' 'Contributors' 'Former owner'\n",
      " 'Issuance type' 'Flickr URL' 'Shelfmarks']\n"
     ]
    }
   ],
   "source": [
    "# select non numeric columns\n",
    "book_bl_non_numeric = book_bl.select_dtypes(exclude=[np.number])\n",
    "non_numeric_cols = book_bl_non_numeric.columns.values\n",
    "print(non_numeric_cols)"
   ]
  },
  {
   "cell_type": "code",
   "execution_count": 120,
   "metadata": {},
   "outputs": [
    {
     "data": {
      "text/plain": [
       "['Identifier',\n",
       " 'Edition Statement',\n",
       " 'Place of Publication',\n",
       " 'Date of Publication',\n",
       " 'Publisher',\n",
       " 'Title',\n",
       " 'Author',\n",
       " 'Contributors',\n",
       " 'Corporate Author',\n",
       " 'Corporate Contributors',\n",
       " 'Former owner',\n",
       " 'Engraver',\n",
       " 'Issuance type',\n",
       " 'Flickr URL',\n",
       " 'Shelfmarks']"
      ]
     },
     "execution_count": 120,
     "metadata": {},
     "output_type": "execute_result"
    }
   ],
   "source": [
    "# getting the columns of the dataset \n",
    "book_bl_columns = list(book_bl.columns)\n",
    "book_bl_columns"
   ]
  },
  {
   "cell_type": "markdown",
   "metadata": {},
   "source": [
    "### Convert the data to the same format"
   ]
  },
  {
   "cell_type": "code",
   "execution_count": 121,
   "metadata": {},
   "outputs": [
    {
     "data": {
      "text/plain": [
       "0    1879 [1878]\n",
       "1           1868\n",
       "2           1869\n",
       "3           1851\n",
       "4           1857\n",
       "5           1875\n",
       "6           1872\n",
       "7            NaN\n",
       "8           1676\n",
       "9           1679\n",
       "Name: Date of Publication, dtype: object"
      ]
     },
     "execution_count": 121,
     "metadata": {},
     "output_type": "execute_result"
    }
   ],
   "source": [
    "book_bl.loc[0:, 'Date of Publication'].head(10)"
   ]
  },
  {
   "cell_type": "code",
   "execution_count": 122,
   "metadata": {},
   "outputs": [
    {
     "data": {
      "text/plain": [
       "0    1879\n",
       "1    1868\n",
       "2    1869\n",
       "3    1851\n",
       "4    1857\n",
       "5    1875\n",
       "6    1872\n",
       "7     NaN\n",
       "8    1676\n",
       "9    1679\n",
       "Name: Date of Publication, dtype: object"
      ]
     },
     "execution_count": 122,
     "metadata": {},
     "output_type": "execute_result"
    }
   ],
   "source": [
    "regex = r'^(\\d{4})' # \\d represents any digit, and {4} repeats this rule four times.\n",
    "                    #The ^ character matches the start of a string, and the parentheses denote a capturing group, \n",
    "                    # which signals to Pandas that we want to extract that part of the regex\n",
    "\n",
    "\n",
    "book_bl['Date of Publication'] = book_bl['Date of Publication'].str.extract(regex, expand=False)\n",
    "book_bl['Date of Publication'].head(10)                "
   ]
  },
  {
   "cell_type": "code",
   "execution_count": 123,
   "metadata": {},
   "outputs": [],
   "source": [
    "#Convert it to float (Optional)\n",
    "#book_bl['Date of Publication'] = pd.to_numeric(extr)\n",
    "#book_bl['Date of Publication'].dtype"
   ]
  },
  {
   "cell_type": "markdown",
   "metadata": {},
   "source": [
    "### Missing Values\n",
    "There are a few ways to deal with it:\n",
    "\n",
    "- Drop the column completely. If the column isn’t that important to your analysis, just drop it.\n",
    "- Imputation — the process of replacing missing data with substituted values: For string type values, we can replace NaN values with “” or “None” or any string that can indicate to you that there isn’t any value in that entry. When the feature is a categorical variable, we may impute the missing data by the mode (the most frequent value).\n"
   ]
  },
  {
   "cell_type": "code",
   "execution_count": 124,
   "metadata": {},
   "outputs": [
    {
     "name": "stdout",
     "output_type": "stream",
     "text": [
      "Missing values distribution: \n",
      "Identifier                0.000000\n",
      "Edition Statement         0.906721\n",
      "Place of Publication      0.000000\n",
      "Date of Publication       0.117171\n",
      "Publisher                 0.506215\n",
      "Title                     0.000000\n",
      "Author                    0.214553\n",
      "Contributors              0.000000\n",
      "Corporate Author          1.000000\n",
      "Corporate Contributors    1.000000\n",
      "Former owner              0.999879\n",
      "Engraver                  1.000000\n",
      "Issuance type             0.000000\n",
      "Flickr URL                0.000000\n",
      "Shelfmarks                0.000000\n",
      "dtype: float64\n",
      "\n"
     ]
    }
   ],
   "source": [
    "# examining missing values\n",
    "print(\"Missing values distribution: \")\n",
    "print(book_bl.isnull().mean())\n",
    "print(\"\")"
   ]
  },
  {
   "cell_type": "code",
   "execution_count": 125,
   "metadata": {},
   "outputs": [
    {
     "name": "stdout",
     "output_type": "stream",
     "text": [
      "Identifier - 0%\n",
      "Edition Statement - 91%\n",
      "Place of Publication - 0%\n",
      "Date of Publication - 12%\n",
      "Publisher - 51%\n",
      "Title - 0%\n",
      "Author - 21%\n",
      "Contributors - 0%\n",
      "Corporate Author - 100%\n",
      "Corporate Contributors - 100%\n",
      "Former owner - 100%\n",
      "Engraver - 100%\n",
      "Issuance type - 0%\n",
      "Flickr URL - 0%\n",
      "Shelfmarks - 0%\n"
     ]
    }
   ],
   "source": [
    "# examining missing values (% of missing)\n",
    "for col in book_bl.columns:\n",
    "    pct_missing = np.mean(book_bl[col].isnull())\n",
    "    print('{} - {}%'.format(col, round(pct_missing*100)))\n",
    "\n",
    "#perc_miss =  ('{} - {}%'.format(col, round(pct_missing*100)))   "
   ]
  },
  {
   "cell_type": "code",
   "execution_count": 126,
   "metadata": {},
   "outputs": [
    {
     "name": "stdout",
     "output_type": "stream",
     "text": [
      "Identifier - 0%\n",
      "Place of Publication - 0%\n",
      "Date of Publication - 12%\n",
      "Title - 0%\n",
      "Author - 21%\n",
      "Contributors - 0%\n",
      "Issuance type - 0%\n",
      "Flickr URL - 0%\n",
      "Shelfmarks - 0%\n"
     ]
    }
   ],
   "source": [
    "# drop cols with a lot of missing values.\n",
    "to_drop = ['Edition Statement',\n",
    "           'Publisher',\n",
    "           'Corporate Author',\n",
    "           'Corporate Contributors',\n",
    "           'Former owner',\n",
    "           'Engraver']\n",
    "\n",
    "book_bl.drop(to_drop, inplace=True, axis=1)\n",
    "\n",
    "#Check it\n",
    "for col in book_bl.columns:\n",
    "    pct_missing = np.mean(book_bl[col].isnull())\n",
    "    print('{} - {}%'.format(col, round(pct_missing*100)))"
   ]
  },
  {
   "cell_type": "code",
   "execution_count": 127,
   "metadata": {},
   "outputs": [
    {
     "name": "stdout",
     "output_type": "stream",
     "text": [
      "Identifier - 0%\n",
      "Place of Publication - 0%\n",
      "Date of Publication - 0%\n",
      "Title - 0%\n",
      "Author - 0%\n",
      "Contributors - 0%\n",
      "Issuance type - 0%\n",
      "Flickr URL - 0%\n",
      "Shelfmarks - 0%\n"
     ]
    }
   ],
   "source": [
    "to_impute = [ 'Date of Publication',\n",
    "              'Author']\n",
    "\n",
    "for column in to_impute:\n",
    "    book_bl[column] = book_bl[column].fillna(\"\")\n",
    "\n",
    "#Check it\n",
    "for col in book_bl.columns:\n",
    "    pct_missing = np.mean(book_bl[col].isnull())\n",
    "    print('{} - {}%'.format(col, round(pct_missing*100)))         "
   ]
  },
  {
   "cell_type": "markdown",
   "metadata": {},
   "source": [
    "### Unique values of columns\n",
    "Beyond potentially missing values, there could be corrupted values that you can run into once you perform analysis. Nonetheless, It might not be strategic to check the unique values of all the columns. \n"
   ]
  },
  {
   "cell_type": "code",
   "execution_count": 128,
   "metadata": {},
   "outputs": [
    {
     "data": {
      "text/plain": [
       "array(['London', 'London; Virtue & Yorston',\n",
       "       'pp. 40. G. Bryan & Co: Oxford, 1898', ...,\n",
       "       'pp. viii. 64. J. Debrett: London, 1789', 'G. Eld: London, 1608',\n",
       "       'Newcastle upon Tyne'], dtype=object)"
      ]
     },
     "execution_count": 128,
     "metadata": {},
     "output_type": "execute_result"
    }
   ],
   "source": [
    "book_bl['Place of Publication'].unique()"
   ]
  },
  {
   "cell_type": "code",
   "execution_count": 133,
   "metadata": {},
   "outputs": [
    {
     "name": "stdout",
     "output_type": "stream",
     "text": [
      "Identifier                                                            216\n",
      "Place of Publication                             London; Virtue & Yorston\n",
      "Date of Publication                                                  1868\n",
      "Title                   All for Greed. [A novel. The dedication signed...\n",
      "Author                                                          A., A. A.\n",
      "Contributors                 BLAZE DE BURY, Marie Pauline Rose - Baroness\n",
      "Issuance type                                                 monographic\n",
      "Flickr URL              http://www.flickr.com/photos/britishlibrary/ta...\n",
      "Shelfmarks                              British Library HMNTS 12626.cc.2.\n",
      "Name: 1, dtype: object\n",
      "\n",
      "Identifier                                                            667\n",
      "Place of Publication                  pp. 40. G. Bryan & Co: Oxford, 1898\n",
      "Date of Publication                                                      \n",
      "Title                   The Coming of Spring, and other poems. By J. A...\n",
      "Author                                                      A., J.|A., J.\n",
      "Contributors                                ANDREWS, J. - Writer of Verse\n",
      "Issuance type                                                 monographic\n",
      "Flickr URL              http://www.flickr.com/photos/britishlibrary/ta...\n",
      "Shelfmarks                             British Library HMNTS 011652.g.73.\n",
      "Name: 7, dtype: object\n",
      "\n",
      "Identifier                                                        4114334\n",
      "Place of Publication               pp. viii. 64. J. Debrett: London, 1789\n",
      "Date of Publication                                                      \n",
      "Title                   The Sword of Peace; or, a voyage of love; a co...\n",
      "Author                                                                   \n",
      "Contributors                                             STARKE, Mariana.\n",
      "Issuance type                                                 monographic\n",
      "Flickr URL              http://www.flickr.com/photos/britishlibrary/ta...\n",
      "Shelfmarks                            British Library HMNTS 643.e.17.(8.)\n",
      "Name: 8268, dtype: object\n",
      "\n",
      "Identifier                                                        4115138\n",
      "Place of Publication                                 G. Eld: London, 1608\n",
      "Date of Publication                                                      \n",
      "Title                   The Revenger's Tagaedie. As it hath beene sund...\n",
      "Author                                                                   \n",
      "Contributors                                             TOURNEUR, Cyril.\n",
      "Issuance type                                                 monographic\n",
      "Flickr URL              http://www.flickr.com/photos/britishlibrary/ta...\n",
      "Shelfmarks              British Library HMNTS 644.c.80.|British Librar...\n",
      "Name: 8272, dtype: object\n",
      "\n"
     ]
    }
   ],
   "source": [
    "# More details on these values\n",
    "incorrect_values = ['London; Virtue & Yorston', 'pp. 40. G. Bryan & Co: Oxford, 1898', 'G. Eld: London, 1608', 'pp. viii. 64. J. Debrett: London, 1789']\n",
    "\n",
    "for i in range(len(book_bl)):\n",
    "    if book_bl['Place of Publication'].iloc[i] in incorrect_values:\n",
    "        print(book_bl.iloc[i])\n",
    "        print(\"\")"
   ]
  },
  {
   "cell_type": "code",
   "execution_count": 129,
   "metadata": {},
   "outputs": [
    {
     "data": {
      "text/plain": [
       "array(['monographic', 'continuing'], dtype=object)"
      ]
     },
     "execution_count": 129,
     "metadata": {},
     "output_type": "execute_result"
    }
   ],
   "source": [
    "book_bl['Issuance type'].unique()"
   ]
  }
 ],
 "metadata": {
  "kernelspec": {
   "display_name": "Python 3.10.4 64-bit",
   "language": "python",
   "name": "python3"
  },
  "language_info": {
   "codemirror_mode": {
    "name": "ipython",
    "version": 3
   },
   "file_extension": ".py",
   "mimetype": "text/x-python",
   "name": "python",
   "nbconvert_exporter": "python",
   "pygments_lexer": "ipython3",
   "version": "3.10.4 (tags/v3.10.4:9d38120, Mar 23 2022, 23:13:41) [MSC v.1929 64 bit (AMD64)]"
  },
  "orig_nbformat": 4,
  "vscode": {
   "interpreter": {
    "hash": "369f2c481f4da34e4445cda3fffd2e751bd1c4d706f27375911949ba6bb62e1c"
   }
  }
 },
 "nbformat": 4,
 "nbformat_minor": 2
}
